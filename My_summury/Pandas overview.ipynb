{
 "cells": [
  {
   "cell_type": "markdown",
   "metadata": {},
   "source": [
    "# Pandas overview / data from the web and matplotlib"
   ]
  },
  {
   "cell_type": "markdown",
   "metadata": {},
   "source": [
    "\n",
    "---\n",
    "\n",
    "### 1. **Création de Données**\n",
    "\n",
    "| **Commande**                | **Description**                        | **Exemple d'Utilisation**                                                                                                   | **Résultat attendu (print)**                           |\n",
    "|-----------------------------|----------------------------------------|-----------------------------------------------------------------------------------------------------------------------------|--------------------------------------------------------|\n",
    "| `pd.Series`                 | Créer une série pandas                 | ```python<br>counts = pd.Series([632, 1638, 569, 115], index=['Firmicutes', 'Proteobacteria', 'Actinobacteria', 'Bacteroidetes'])<br>print(counts)``` | Affiche la série créée                                 |\n",
    "| `pd.DataFrame.from_dict`    | Créer un DataFrame à partir d'un dictionnaire | ```python<br>data_dict = {'value':[632, 1638, 569, 115, 433, 1130, 754, 555], 'patient':[1, 1, 1, 1, 2, 2, 2, 2]}<br>publications = pd.DataFrame.from_dict(data_dict)<br>print(publications)``` | Affiche le DataFrame `publications`                    |\n",
    "\n",
    "---\n"
   ]
  },
  {
   "cell_type": "code",
   "execution_count": 1,
   "metadata": {},
   "outputs": [
    {
     "name": "stdout",
     "output_type": "stream",
     "text": [
      "      Name  Age Gender\n",
      "0    Alice   25      F\n",
      "1      Bob   30      M\n",
      "2  Charlie   35      M\n",
      "      Name  Age Gender\n",
      "0    Alice   25      F\n",
      "1      Bob   30      M\n",
      "2  Charlie   35      M\n",
      "      Name  Age Gender\n",
      "0    Alice   25      F\n",
      "1      Bob   30      M\n",
      "2  Charlie   35      M\n",
      "                Count\n",
      "Firmicutes        632\n",
      "Proteobacteria   1638\n",
      "Actinobacteria    569\n",
      "Bacteroidetes     115\n"
     ]
    }
   ],
   "source": [
    "import pandas as pd\n",
    "\n",
    "# Créer un DataFrame à partir d'un dictionnaire\n",
    "data_dict = {\n",
    "    'Name': ['Alice', 'Bob', 'Charlie'],\n",
    "    'Age': [25, 30, 35],\n",
    "    'Gender': ['F', 'M', 'M']\n",
    "}\n",
    "df_dict = pd.DataFrame(data_dict)\n",
    "print(df_dict)\n",
    "\n",
    "# Créer un DataFrame à partir d'une liste de listes\n",
    "data_list = [\n",
    "    ['Alice', 25, 'F'],\n",
    "    ['Bob', 30, 'M'],\n",
    "    ['Charlie', 35, 'M']\n",
    "]\n",
    "df_list = pd.DataFrame(data_list, columns=['Name', 'Age', 'Gender'])\n",
    "print(df_list)\n",
    "\n",
    "# Créer un DataFrame à partir d'une liste de dictionnaires\n",
    "data_list_dict = [\n",
    "    {'Name': 'Alice', 'Age': 25, 'Gender': 'F'},\n",
    "    {'Name': 'Bob', 'Age': 30, 'Gender': 'M'},\n",
    "    {'Name': 'Charlie', 'Age': 35, 'Gender': 'M'}\n",
    "]\n",
    "df_list_dict = pd.DataFrame(data_list_dict)\n",
    "print(df_list_dict)\n",
    "\n",
    "# Créer un DataFrame à partir d'une série pandas\n",
    "data_series = pd.Series([632, 1638, 569, 115], index=['Firmicutes', 'Proteobacteria', 'Actinobacteria'])\n",
    "df_series = pd.DataFrame(data_series, columns=['Count'])\n",
    "print(df_series)"
   ]
  },
  {
   "cell_type": "markdown",
   "metadata": {},
   "source": [
    "\n",
    "### 2. **Lecture et Sauvegarde**\n",
    "\n",
    "| **Commande**    | **Description**                  | **Exemple d'Utilisation**                                                                                                                                                       | **Résultat attendu (print)**                                  |\n",
    "|-----------------|----------------------------------|-----------------------------------------------------------------------------------------------------------------------------------------------------------------------------------|---------------------------------------------------------------|\n",
    "| `read_csv`      | Lire un fichier CSV               | ```python<br>baseball = pd.read_csv(\"Data/baseball.csv\", index_col='id')```                                                                                                      | Charge le fichier CSV avec 'id' comme index                  |\n",
    "| `to_csv`        | Sauvegarder un DataFrame en CSV   | ```python<br>mb.to_csv(\"mb.csv\")```                                                                                                                                             | Sauvegarde le DataFrame `mb` dans le fichier `mb.csv`         |\n",
    "| `to_pickle`     | Sauvegarder un DataFrame en pickle | ```python<br>baseball.to_pickle(\"baseball_pickle\")```                                                                                                                              | Sauvegarde le DataFrame `baseball` dans le fichier pickle      |\n",
    "\n",
    "---\n"
   ]
  },
  {
   "cell_type": "markdown",
   "metadata": {},
   "source": [
    "\n",
    "### 3. **Indexation**\n",
    "\n",
    "| **Commande**         | **Description**                                      | **Exemple d'Utilisation**                                                                                                      | **Résultat attendu (print)**                                      |\n",
    "|----------------------|------------------------------------------------------|--------------------------------------------------------------------------------------------------------------------------------|-------------------------------------------------------------------|\n",
    "| `index.is_unique`    | Vérifie si l'index est unique                        | ```python<br>unique_index = baseball.index.is_unique<br>print(unique_index)```                                                 | `True` ou `False` indiquant l'unicité de l'index                 |\n",
    "| `index`              | Modifier l'index du DataFrame                        | ```python<br>baseball.index = baseball.player```                                                                             | Change l'index en utilisant la colonne 'player'                   |\n",
    "| `set_index`          | Définir une ou plusieurs colonnes comme index        | ```python<br>baseball_h = baseball.set_index(['year', 'team', 'player'])```                                                    | Crée un MultiIndex avec 'year', 'team', et 'player'               |\n",
    "| `data.index`         | Obtenir l'index actuel                               | ```python<br>print(data.index)```                                                                                               | Affiche l'index des lignes du DataFrame                           |\n",
    "\n",
    "---\n"
   ]
  },
  {
   "cell_type": "code",
   "execution_count": null,
   "metadata": {},
   "outputs": [],
   "source": [
    "data.idxmax() # returns the index of the first occurrence of the maximum value\n",
    "data.idxmin() # returns the index of the first occurrence of the minimum value\n",
    "data.sort_values(by \"nonm de la colomne\" , ascending = False) # le data s'afficge avec des valeurs décroissante de \"nom de la colomne\""
   ]
  },
  {
   "cell_type": "code",
   "execution_count": null,
   "metadata": {},
   "outputs": [],
   "source": []
  },
  {
   "cell_type": "markdown",
   "metadata": {},
   "source": [
    "\n",
    "### 4. **Sélection**\n",
    "\n",
    "| **Commande**                       | **Description**                                      | **Exemple d'Utilisation**                                                                                                           | **Résultat attendu (print)**                                     |\n",
    "|------------------------------------|------------------------------------------------------|-------------------------------------------------------------------------------------------------------------------------------------|------------------------------------------------------------------|\n",
    "| `loc`                              | Sélectionner des lignes par étiquette d'index         | ```python<br>ligne_b = df.loc['b']<br>print(ligne_b)```                                                                            | Sélectionne la ligne avec l'index 'b'                            |\n",
    "| `iloc`                             | Sélectionner des lignes par position entière          | ```python<br>premiere_ligne = df.iloc[0]<br>deux_premieres = df.iloc[:2]<br>print(premiere_ligne)<br>print(deux_premieres)```      | Sélectionne la première ligne et les deux premières lignes        |\n",
    "| `data[['phylum','value','patient']]` | Sélectionner des colonnes spécifiques              | ```python<br>selected_data = data[['phylum','value','patient']]<br>print(selected_data)```                                        | Affiche les colonnes 'phylum', 'value', et 'patient'             |\n",
    "| `data['patient']`                  | Sélectionner une colonne                              | ```python<br>patient_col = data['patient']<br>print(patient_col)```                                                              | Affiche la colonne 'patient'                                     |\n",
    "| `data.patient`                     | Sélectionner une colonne (alternative)                | ```python<br>patient_col = data.patient<br>print(patient_col)```                                                                 | Affiche la colonne 'patient'                                     |\n",
    "| `data.loc[3]`                      | Accéder à la ligne à l'index 3                        | ```python<br>ligne_3 = data.loc[3]<br>print(ligne_3)```                                                                           | Affiche la ligne avec l'index 3                                  |\n",
    "| `data.nlargest`                    | Sélectionner les n plus grandes valeurs               | ```python<br>top3 = data.nlargest(3, \"Value\")<br>print(top3)```                                                                  | Affiche les 3 lignes avec les plus grandes valeurs dans 'Value'   |\n",
    "\n",
    "---\n"
   ]
  },
  {
   "cell_type": "code",
   "execution_count": null,
   "metadata": {},
   "outputs": [],
   "source": [
    "df_a = df[df[\"State\"].isin([\"Wisconsin\", \"Tennessee\", \"Minnesota\"])] # Select rows where the State column is Wisconsin, Tennessee, or Minnesota\n"
   ]
  },
  {
   "cell_type": "markdown",
   "metadata": {},
   "source": [
    "\n",
    "### 5. **Filtrage**\n",
    "\n",
    "| **Commande** | **Description**                                   | **Exemple d'Utilisation**                                                                                                                                                           | **Résultat attendu (print)**                                        |\n",
    "|--------------|---------------------------------------------------|-------------------------------------------------------------------------------------------------------------------------------------------------------------------------------------|---------------------------------------------------------------------|\n",
    "| `df[condition]` | Filtrer des lignes en fonction d'une condition   | ```python<br>condition = counts > 500<br>print(counts[condition])```                                                                                                                | Filtre les lignes où les valeurs de `counts` sont supérieures à 500 |\n",
    "| `query`        | Filtrer des lignes avec une expression conditionnelle lisible | ```python<br>baseball.query(\"ab > @min_ab\")<br>print(baseball.query(\"ab > @min_ab\"))```                                                                                           | Affiche les lignes où 'ab' > 500                                   |\n",
    "| `apply`        | Appliquer une fonction à chaque élément          | ```python<br>filtered_bacteria = counts[counts.index.to_series().apply(lambda x: x.endswith('bacteria'))]<br>print(filtered_bacteria)```                                             | Affiche les lignes où les noms d'index se terminent par 'bacteria' et `counts > 1000` |\n",
    "\n",
    "---\n"
   ]
  },
  {
   "cell_type": "markdown",
   "metadata": {},
   "source": [
    "\n",
    "### 6. **Gestion des Données Manquantes**\n",
    "\n",
    "| **Commande**               | **Description**                                      | **Exemple d'Utilisation**                                                                                                                                                                              | **Résultat attendu (print)**                                          |\n",
    "|----------------------------|------------------------------------------------------|---------------------------------------------------------------------------------------------------------------------------------------------------------------------------------------------------------|-----------------------------------------------------------------------|\n",
    "| `notnull`                  | Sélectionner les lignes sans valeurs manquantes      | ```python<br>hr_total_notna = hr_total[hr_total.notnull()]<br>print(hr_total_notna)```                                                                                                              | Affiche les lignes sans aucune valeur manquante                      |\n",
    "| `dropna`                   | Supprimer les lignes avec valeurs manquantes          | ```python<br>hr_total_clean = hr_total.dropna()<br>print(hr_total_clean)```                                                                                                                         | Enlève les lignes avec au moins une valeur manquante                 |\n",
    "| `dropna(how='all')`        | Supprimer les lignes seulement si toutes les valeurs sont manquantes | ```python<br>hr_total_clean_all = hr_total.dropna(how='all')<br>print(hr_total_clean_all)```                                                                                                        | Supprime les lignes où toutes les valeurs sont manquantes            |\n",
    "| `fillna`                   | Remplacer les valeurs manquantes                     | ```python<br>hr_total_filled = hr_total.fillna(0)<br>print(hr_total_filled)```                                                                                                                    | Remplace toutes les valeurs manquantes par 0                          |\n",
    "| `fillna` avec dictionnaire | Remplacer les valeurs manquantes par des valeurs spécifiques | ```python<br>data_filled = data.fillna({'year': 2013, 'treatment':2})<br>print(data_filled)```                                                                                                    | Remplace 'year' par 2013 et 'treatment' par 2                         |\n",
    "| `fillna` avec `inplace=True` | Remplacer les valeurs manquantes directement dans le DataFrame | ```python<br>data['treatment'].fillna(2, inplace=True)<br>print(data)```                                                                                                                        | Modifie la colonne 'treatment' en remplaçant les valeurs manquantes par 2 |\n",
    "\n",
    "---\n"
   ]
  },
  {
   "cell_type": "markdown",
   "metadata": {},
   "source": [
    "\n",
    "### 7. **Agrégations et Groupements**\n",
    "\n",
    "| **Commande** | **Description**                  | **Exemple d'Utilisation**                                                                                                 | **Résultat attendu (print)**                                 |\n",
    "|--------------|----------------------------------|---------------------------------------------------------------------------------------------------------------------------|--------------------------------------------------------------|\n",
    "| `sum`        | Calculer la somme des colonnes numériques | ```python<br>total_sum = baseball.sum(numeric_only=True)<br>print(total_sum)```                                              | Affiche la somme de chaque colonne numérique                 |\n",
    "| `mean`       | Calculer la moyenne des colonnes  | ```python<br>average = baseball.mean(skipna=False)<br>print(average)```                                                   | Affiche la moyenne de chaque colonne, incluant les NaN si `skipna=False` |\n",
    "| `describe`   | Obtenir des statistiques descriptives | ```python<br>stats = baseball.describe()<br>print(stats)```                                                                | Affiche des statistiques descriptives pour chaque colonne     |\n",
    "| `groupby`    | Grouper les données par une colonne  | ```python<br>grouped_data = data.groupby('team', as_index=False).agg(moyenne_points=('points', 'mean'), somme_assists=('assists', 'sum'))<br>print(grouped_data)``` | Affiche le DataFrame groupé avec la moyenne des points et la somme des assists par équipe |\n",
    "| `agg`        | Appliquer des fonctions d'agrégation sur les groupes | ```python<br>grouped_data = data.groupby('team', as_index=False).agg(moyenne_points=('points', 'mean'), somme_assists=('assists', 'sum'))<br>print(grouped_data)``` | Affiche le DataFrame groupé avec la moyenne des points et la somme des assists par équipe |\n",
    "\n",
    "---\n"
   ]
  },
  {
   "cell_type": "code",
   "execution_count": 4,
   "metadata": {
    "vscode": {
     "languageId": "ruby"
    }
   },
   "outputs": [
    {
     "name": "stdout",
     "output_type": "stream",
     "text": [
      "DataFrame groupé avec agrégations :\n",
      "   Team  moyenne_points  somme_assists  total_rebounds\n",
      "0    A       16.666667             22              27\n",
      "1    B       21.666667             25              25\n",
      "2    C       26.666667             30              35\n",
      "DataFrame avec agrégations sans grouper :\n",
      "                  Points   Assists\n",
      "total_points      195.0       NaN\n",
      "moyenne_assists     NaN  8.555556\n"
     ]
    }
   ],
   "source": [
    "import pandas as pd\n",
    "\n",
    "# Créer un nouveau DataFrame\n",
    "data_new = {\n",
    "    'Team': ['A', 'A', 'B', 'B', 'C', 'C', 'A', 'B', 'C'],\n",
    "    'Points': [10, 15, 10, 20, 10, 30, 25, 35, 40],\n",
    "    'Assists': [5, 7, 8, 5, 6, 9, 10, 12, 15],\n",
    "    'Rebounds': [7, 8, 6, 5, 9, 10, 12, 14, 16]\n",
    "}\n",
    "df_new = pd.DataFrame(data_new)\n",
    "\n",
    "# Grouper par 'Team' et calculer la moyenne des 'Points' et la somme des 'Assists'\n",
    "grouped_data = df_new.groupby('Team', as_index=False).agg(\n",
    "    moyenne_points=('Points', 'mean'),\n",
    "    somme_assists=('Assists', 'sum'),\n",
    "    total_rebounds=('Rebounds', 'sum')\n",
    ")\n",
    "\n",
    "print(\"DataFrame groupé avec agrégations :\\n\", grouped_data)\n",
    "\n",
    "# Calculer la somme des 'Points' et la moyenne des 'Assists' sans grouper\n",
    "agg_data = df_new.agg(\n",
    "    total_points=('Points', 'sum'),\n",
    "    moyenne_assists=('Assists', 'mean')\n",
    ")\n",
    "\n",
    "print(\"DataFrame avec agrégations sans grouper :\\n\", agg_data)"
   ]
  },
  {
   "cell_type": "markdown",
   "metadata": {},
   "source": [
    "\n",
    "### 8. **Manipulation de Données**\n",
    "\n",
    "| **Commande**                         | **Description**                                       | **Exemple d'Utilisation**                                                                                                                 | **Résultat attendu (print)**                                      |\n",
    "|--------------------------------------|-------------------------------------------------------|-------------------------------------------------------------------------------------------------------------------------------------------|-------------------------------------------------------------------|\n",
    "| `drop`                               | Supprimer des lignes ou colonnes                      | ```python<br>data_nomonth = data.drop('treatment', axis=1)<br>print(data_nomonth)```                                                      | Supprime la colonne 'treatment'                                   |\n",
    "| `drop`                               | Supprimer des lignes spécifiques                      | ```python<br>data2 = data.drop([0,1])<br>print(data2)```                                                                                 | Supprime les lignes avec les index 0 et 1                         |\n",
    "| `replace`                            | Remplacer des valeurs spécifiques                     | ```python<br>vessels['type'] = vessels.type.map({'ferry': 1, 'ship': 0})<br>print(vessels)```                                              | Remplace les valeurs de 'type' par 1 pour 'ferry' et 0 pour 'ship' |\n",
    "| `map`                                | Mapper des valeurs selon un dictionnaire               | ```python<br>vessels['type'] = vessels.type.map({'ferry': 1, 'ship': 0})<br>print(vessels)```                                              | Remplace les valeurs de 'type' par 1 pour 'ferry' et 0 pour 'ship' |\n",
    "| `rename`                             | Renommer des colonnes                                  | ```python<br>vessels.rename(columns={'type': 'vessel_type'}, inplace=True)<br>print(vessels)```                                           | Renomme la colonne 'type' en 'vessel_type'                       |\n",
    "| `astype`                             | Changer le type d'une colonne                          | ```python<br>cdystonia['treat'] = cdystonia.treat.astype('category')```                                                               | Change le type de la colonne 'treat' en 'category'                |\n",
    "| `pd.cut`                             | Découper une colonne en intervalles                    | ```python<br>categories = pd.cut(cdystonia.age, [20,30,40,50,60,70,80,90], right=False, labels=['young','middle-aged','old','really old'])<br>print(categories)``` | Classe les âges dans les catégories spécifiées                    |\n",
    "| `pd.qcut`                            | Découper une colonne en quantiles                       | ```python<br>quantiles = pd.qcut(segments.seg_length, [0, 0.01, 0.05, 0.95, 0.99, 1])<br>print(quantiles)```                             | Classe les longueurs de segments selon les quantiles spécifiés    |\n",
    "\n",
    "---\n"
   ]
  },
  {
   "cell_type": "code",
   "execution_count": null,
   "metadata": {},
   "outputs": [],
   "source": [
    "pd.get_dummies() # Convert categorical variable into dummy/indicator variables\n",
    "pd.split() # Split strings around given separator/delimiter exemple : "
   ]
  },
  {
   "cell_type": "markdown",
   "metadata": {},
   "source": [
    "\n",
    "### 9. **Gestion des Duplications**\n",
    "\n",
    "| **Commande**          | **Description**                                      | **Exemple d'Utilisation**                                                                                             | **Résultat attendu (print)**                           |\n",
    "|-----------------------|------------------------------------------------------|-----------------------------------------------------------------------------------------------------------------------|--------------------------------------------------------|\n",
    "| `duplicated`          | Identifier les lignes dupliquées                     | ```python<br>vessels.duplicated(subset='type').head(30)```                                                            | Affiche `True` si la ligne est dupliquée selon 'type'     |\n",
    "| `drop_duplicates`     | Supprimer les lignes dupliquées                      | ```python<br>vessels.drop_duplicates(['type']).head()<br>print(vessels)```                                           | Supprime les lignes dupliquées selon 'type'             |\n",
    "\n",
    "---\n",
    "\n",
    "### 10. **Merging et Jointures**\n",
    "\n",
    "| **Commande**                        | **Description**                                       | **Exemple d'Utilisation**                                                                                                                                                                    | **Résultat attendu (print)**                                      |\n",
    "|-------------------------------------|-------------------------------------------------------|----------------------------------------------------------------------------------------------------------------------------------------------------------------------------------------------|-------------------------------------------------------------------|\n",
    "| `pd.merge`                          | Joindre deux DataFrames                               | ```python<br>df1 = pd.DataFrame({'id1': [1, 2, 3], 'A': ['A1', 'A2', 'A3']})<br>df2 = pd.DataFrame({'id2': [1, 2, 4], 'B': ['B1', 'B2', 'B4']})<br>merged_inner = pd.merge(df1, df2)<br>print(merged_inner)``` | Jointure interne (inner join) par défaut                          |\n",
    "| `pd.merge` avec `how='outer'`       | Jointure externe (outer join)                          | ```python<br>merged_outer = pd.merge(df1, df2, how='outer')<br>print(merged_outer)```                                                                                                    | Jointure externe, incluant toutes les lignes de df1 et df2       |\n",
    "| `pd.merge` avec `how='left'`        | Jointure gauche (left join)                            | ```python<br>merged_left = pd.merge(df1, df2, how='left')<br>print(merged_left)```                                                                                                      | Jointure gauche, incluant toutes les lignes de df1              |\n",
    "| `pd.merge` avec `how='right'`       | Jointure droite (right join)                           | ```python<br>merged_right = pd.merge(df1, df2, how='right')<br>print(merged_right)```                                                                                                | Jointure droite, incluant toutes les lignes de df2             |\n",
    "| `pd.merge` avec `left_index=True`   | Jointure sur les index des DataFrames                  | ```python<br>merged_index = pd.merge(df1, df2, left_index=True, right_index=True)<br>print(merged_index)```                                                                          | Jointure basée sur les index des deux DataFrames                |\n",
    "| `pd.merge` avec `left_on` et `right_on` | Jointure sur des colonnes spécifiques                  | ```python<br>merged_on = pd.merge(df1, df2, left_on='id1', right_on='id2')<br>print(merged_on)```                                                                                      | Jointure basée sur les colonnes 'id1' de df1 et 'id2' de df2     |\n",
    "\n",
    "---\n"
   ]
  },
  {
   "cell_type": "markdown",
   "metadata": {},
   "source": [
    "\n",
    "### 11. **Visualisation**\n",
    "\n",
    "| **Commande**      | **Description**                  | **Exemple d'Utilisation**                                                                                                           | **Résultat attendu (print)**                     |\n",
    "|-------------------|----------------------------------|-------------------------------------------------------------------------------------------------------------------------------------|--------------------------------------------------|\n",
    "| `plot.scatter`    | Créer un graphique de dispersion | ```python<br>baseball.plot.scatter(x='hr', y='X2b')```                                                                            | Affiche un graphique de dispersion entre 'hr' et 'X2b' |\n",
    "| `hist`            | Créer un histogramme              | ```python<br>baseball['ab'].hist()```                                                                                              | Affiche un histogramme de la colonne 'ab'         |\n",
    "\n",
    "---\n"
   ]
  },
  {
   "cell_type": "code",
   "execution_count": null,
   "metadata": {},
   "outputs": [],
   "source": [
    "import seaborn as sns\n",
    "sns.lmplot(x1 = [\"colonne1\"], x2= [\"colonne2\"] , data = data, hue = 'colonne3') # Scatter plot avec regression line et coloration par rapport à une autre colonne3 .\n",
    "sns.pairplot(data= Dataframe) # Affiche la scatter matrix "
   ]
  },
  {
   "cell_type": "markdown",
   "metadata": {},
   "source": [
    "\n",
    "### 12. **Application de Fonctions**\n",
    "\n",
    "| **Commande** | **Description**                          | **Exemple d'Utilisation**                                                                                                        | **Résultat attendu (print)**                                        |\n",
    "|--------------|------------------------------------------|----------------------------------------------------------------------------------------------------------------------------------|---------------------------------------------------------------------|\n",
    "| `apply`      | Appliquer une fonction à chaque élément | ```python<br>filtered = data[data['phylum'].apply(lambda x: x.endswith('bacteria')) & data['value'].apply(lambda x: x > 1000)]<br>print(filtered)``` | Affiche les lignes où 'phylum' se termine par 'bacteria' et 'value' > 1000 |\n",
    "\n",
    "---\n"
   ]
  },
  {
   "cell_type": "code",
   "execution_count": 3,
   "metadata": {},
   "outputs": [
    {
     "name": "stdout",
     "output_type": "stream",
     "text": [
      "\n",
      "DataFrame trié par âge (décroissant) :\n",
      "       Name  Age Gender                       Hobbies\n",
      "4      Eve   45      F  [Reading, Cycling, Swimming]\n",
      "3    David   40      M                    [Swimming]\n",
      "2  Charlie   35      M            [Reading, Cycling]\n",
      "1      Bob   30      M                     [Cycling]\n",
      "0    Alice   25      F           [Reading, Swimming]\n",
      "\n",
      "Nombre de chaque genre :\n",
      " Gender\n",
      "M    3\n",
      "F    2\n",
      "Name: count, dtype: int64\n",
      "\n",
      "DataFrame après explode sur la colonne Hobbies :\n",
      "       Name  Age Gender   Hobbies\n",
      "0    Alice   25      F   Reading\n",
      "0    Alice   25      F  Swimming\n",
      "1      Bob   30      M   Cycling\n",
      "2  Charlie   35      M   Reading\n",
      "2  Charlie   35      M   Cycling\n",
      "3    David   40      M  Swimming\n",
      "4      Eve   45      F   Reading\n",
      "4      Eve   45      F   Cycling\n",
      "4      Eve   45      F  Swimming\n",
      "\n",
      "DataFrame avec les hobbies triés :\n",
      "       Name  Age Gender                       Hobbies  \\\n",
      "0    Alice   25      F           [Reading, Swimming]   \n",
      "1      Bob   30      M                     [Cycling]   \n",
      "2  Charlie   35      M            [Reading, Cycling]   \n",
      "3    David   40      M                    [Swimming]   \n",
      "4      Eve   45      F  [Reading, Cycling, Swimming]   \n",
      "\n",
      "                 Sorted_Hobbies  \n",
      "0           [Reading, Swimming]  \n",
      "1                     [Cycling]  \n",
      "2            [Cycling, Reading]  \n",
      "3                    [Swimming]  \n",
      "4  [Cycling, Reading, Swimming]  \n"
     ]
    }
   ],
   "source": [
    "import pandas as pd\n",
    "\n",
    "# Créer un nouveau DataFrame\n",
    "data_new = {\n",
    "    'Name': ['Alice', 'Bob', 'Charlie', 'David', 'Eve'],\n",
    "    'Age': [25, 30, 35, 40, 45],\n",
    "    'Gender': ['F', 'M', 'M', 'M', 'F'],\n",
    "    'Hobbies': [['Reading', 'Swimming'], ['Cycling'], ['Reading', 'Cycling'], ['Swimming'], ['Reading', 'Cycling', 'Swimming']]\n",
    "}\n",
    "df_new = pd.DataFrame(data_new)\n",
    "\n",
    "# Exemple de sort_values\n",
    "df_sorted = df_new.sort_values(by='Age', ascending=False)\n",
    "print(\"\\nDataFrame trié par âge (décroissant) :\\n\", df_sorted)\n",
    "\n",
    "# Exemple de value_counts\n",
    "gender_counts = df_new['Gender'].value_counts()\n",
    "print(\"\\nNombre de chaque genre :\\n\", gender_counts)\n",
    "\n",
    "# Exemple de explode\n",
    "df_exploded = df_new.explode('Hobbies')\n",
    "print(\"\\nDataFrame après explode sur la colonne Hobbies :\\n\", df_exploded)\n",
    "\n",
    "# Exemple de sort\n",
    "sorted_hobbies = df_new['Hobbies'].apply(sorted)\n",
    "df_new['Sorted_Hobbies'] = sorted_hobbies\n",
    "print(\"\\nDataFrame avec les hobbies triés :\\n\", df_new)\n"
   ]
  },
  {
   "cell_type": "markdown",
   "metadata": {},
   "source": [
    "\n",
    "### 13. **Copie de Données**\n",
    "\n",
    "| **Commande** | **Description**                | **Exemple d'Utilisation**                      | **Résultat attendu (print)**                          |\n",
    "|--------------|--------------------------------|------------------------------------------------|-------------------------------------------------------|\n",
    "| `copy`       | Copier une série ou DataFrame  | ```python<br>data_copy = data.value.copy()<br>print(data_copy)``` | Crée une copie indépendante de la colonne 'value'      |\n",
    "\n",
    "---\n"
   ]
  },
  {
   "cell_type": "markdown",
   "metadata": {},
   "source": [
    "\n",
    "### 14. **Gestion des Duplications**\n",
    "\n",
    "| **Commande**          | **Description**                                      | **Exemple d'Utilisation**                                                                                             | **Résultat attendu (print)**                           |\n",
    "|-----------------------|------------------------------------------------------|-----------------------------------------------------------------------------------------------------------------------|--------------------------------------------------------|\n",
    "| `duplicated`          | Identifier les lignes dupliquées                     | ```python<br>vessels.duplicated(subset='type').head(30)<br>print(vessels.duplicated(subset='type').head(30))```          | Affiche `True` si la ligne est dupliquée selon 'type'     |\n",
    "| `drop_duplicates`     | Supprimer les lignes dupliquées                      | ```python<br>vessels.drop_duplicates(['type']).head()<br>print(vessels.drop_duplicates(['type']).head())```             | Supprime les lignes dupliquées selon 'type'             |\n",
    "\n",
    "---\n"
   ]
  },
  {
   "cell_type": "markdown",
   "metadata": {},
   "source": []
  },
  {
   "cell_type": "markdown",
   "metadata": {},
   "source": [
    "\n",
    "### 15. **Autres Commandes Utiles**\n",
    "\n",
    "| **Commande**           | **Description**                                 | **Exemple d'Utilisation**                                            | **Résultat attendu (print)**                                   |\n",
    "|------------------------|-------------------------------------------------|----------------------------------------------------------------------|----------------------------------------------------------------|\n",
    "| `shape`                | Obtenir les dimensions du DataFrame             | ```python<br>dimensions = data.shape<br>print(dimensions)```           | Affiche les dimensions (lignes, colonnes) du DataFrame        |\n",
    "| `hr_total = baseball` | Assignation d'un DataFrame à une nouvelle variable | ```python<br>hr_total = baseball<br>print(hr_total)```                  | `hr_total` référence maintenant le même DataFrame que `baseball` |\n",
    "\n",
    "---\n"
   ]
  },
  {
   "cell_type": "markdown",
   "metadata": {},
   "source": [
    "\n",
    "### 16. **Crosstab**\n",
    "\n",
    "| **Commande**               | **Description**                                 | **Exemple d'Utilisation**                                                                                                                    | **Résultat attendu (print)**                                        |\n",
    "|----------------------------|-------------------------------------------------|----------------------------------------------------------------------------------------------------------------------------------------------|---------------------------------------------------------------------|\n",
    "| `pd.crosstab`              | Créer une table croisée (crosstab)              | ```python<br>groupe_cross = pd.crosstab(data['team'], data['points'])<br>groupe_cross1 = pd.crosstab(data['team'], data['points'], values=data[\"assists\"], aggfunc='sum')<br>print(groupe_cross)<br>print(groupe_cross1)``` | Affiche les tables croisées entre 'team' et 'points' et entre 'team', 'points' avec la somme des 'assists' |\n",
    "\n",
    "---\n"
   ]
  },
  {
   "cell_type": "markdown",
   "metadata": {},
   "source": [
    "\n",
    "### 17. **Mapping et Remplacement**\n",
    "\n",
    "| **Commande**                   | **Description**                                       | **Exemple d'Utilisation**                                                                                                                  | **Résultat attendu (print)**                                      |\n",
    "|--------------------------------|-------------------------------------------------------|--------------------------------------------------------------------------------------------------------------------------------------------|-------------------------------------------------------------------|\n",
    "| `map`                          | Mapper des valeurs selon un dictionnaire               | ```python<br>vessels['type'] = vessels.type.map({'ferry': 1, 'ship': 0})<br>print(vessels)```                                            | Remplace les valeurs de 'type' par 1 pour 'ferry' et 0 pour 'ship' |\n",
    "| `replace`                      | Remplacer des valeurs spécifiques                     | ```python<br>vessels.vessel.replace({'A': 'Alpha', 'B': 'Bravo', 'C': 'Charlie', 'D': 'Delta'}).head(10)<br>print(vessels)```          | Remplace les valeurs de 'vessel' par 'Alpha', 'Bravo', etc.        |\n",
    "| `rename`                       | Renommer des colonnes                                  | ```python<br>vessels.rename(columns={'type': 'vessel_type'}, inplace=True)<br>print(vessels)```                                         | Renomme la colonne 'type' en 'vessel_type'                        |\n",
    "| `astype`                       | Changer le type d'une colonne                          | ```python<br>cdystonia['treat'] = cdystonia.treat.astype('category')<br>print(cdystonia)```                                           | Change le type de la colonne 'treat' en 'category'                |"
   ]
  },
  {
   "cell_type": "code",
   "execution_count": null,
   "metadata": {},
   "outputs": [],
   "source": [
    "isna()"
   ]
  },
  {
   "cell_type": "markdown",
   "metadata": {},
   "source": [
    "# Brouillons"
   ]
  },
  {
   "cell_type": "markdown",
   "metadata": {},
   "source": [
    "## Introduction to Pandas"
   ]
  },
  {
   "cell_type": "code",
   "execution_count": 4,
   "metadata": {},
   "outputs": [
    {
     "name": "stdout",
     "output_type": "stream",
     "text": [
      "Firmicutes         632\n",
      "Proteobacteria    1638\n",
      "Actinobacteria     569\n",
      "Bacteroidetes      115\n",
      "dtype: int64\n",
      "Proteobacteria    1638\n",
      "Actinobacteria     569\n",
      "dtype: int64\n",
      "Proteobacteria    1638\n",
      "dtype: int64\n",
      "Firmicutes         632\n",
      "Proteobacteria    1638\n",
      "Actinobacteria     569\n",
      "dtype: int64\n",
      "   value  patient\n",
      "0    632        1\n",
      "1   1638        1\n",
      "2    569        1\n",
      "3    115        1\n",
      "4    433        2\n",
      "5   1130        2\n",
      "6    754        2\n",
      "7    555        2\n"
     ]
    }
   ],
   "source": [
    "import pandas as pd\n",
    "\n",
    "# Création d'une série avec pandas\n",
    "counts = pd.Series([632, 1638, 569, 115], index=['Firmicutes', 'Proteobacteria', 'Actinobacteria', 'Bacteroidetes'])\n",
    "print(counts)  # Affichage de la série\n",
    "\n",
    "# Filtrage par nom d'index qui se termine par 'bacteria'\n",
    "filtered_bacteria = counts[[name.endswith('bacteria') for name in counts.index]]\n",
    "print(filtered_bacteria)\n",
    "\n",
    "# Filtrage des valeurs supérieures à 1000\n",
    "high_counts = counts[counts > 1000]\n",
    "print(high_counts)\n",
    "\n",
    "# Lecture avec condition sous forme de série booléenne\n",
    "condition = counts > 500\n",
    "print(counts[condition])\n",
    "\n",
    "# Création d'une série à partir d'un dictionnaire\n",
    "data_dict = {'value':[632, 1638, 569, 115, 433, 1130, 754, 555],\n",
    "                     'patient':[1, 1, 1, 1, 2, 2, 2, 2]}\n",
    "publications = pd.DataFrame.from_dict(data_dict)\n",
    "print(publications)\n"
   ]
  },
  {
   "cell_type": "markdown",
   "metadata": {},
   "source": []
  },
  {
   "cell_type": "code",
   "execution_count": 2,
   "metadata": {},
   "outputs": [
    {
     "name": "stdout",
     "output_type": "stream",
     "text": [
      "   value  patient          phylum  year\n",
      "1   1638        1  Proteobacteria  2013\n"
     ]
    },
    {
     "name": "stderr",
     "output_type": "stream",
     "text": [
      "/var/folders/w1/f3785wtj77166md17d9fj02w0000gn/T/ipykernel_28276/2225023308.py:16: SettingWithCopyWarning: \n",
      "A value is trying to be set on a copy of a slice from a DataFrame\n",
      "\n",
      "See the caveats in the documentation: https://pandas.pydata.org/pandas-docs/stable/user_guide/indexing.html#returning-a-view-versus-a-copy\n",
      "  vals[5] = 0 # changer la valeur de la 5eme ligne\n",
      "/var/folders/w1/f3785wtj77166md17d9fj02w0000gn/T/ipykernel_28276/2225023308.py:19: SettingWithCopyWarning: \n",
      "A value is trying to be set on a copy of a slice from a DataFrame\n",
      "\n",
      "See the caveats in the documentation: https://pandas.pydata.org/pandas-docs/stable/user_guide/indexing.html#returning-a-view-versus-a-copy\n",
      "  data.value[[3,4,6]] = [14, 21, 5] # changer les valeurs des lignes 3, 4 et 6 de la colonne value\n"
     ]
    }
   ],
   "source": [
    "import pandas as pd\n",
    "\n",
    "data = pd.DataFrame({'value':[632, 1638, 569, 115, 433, 1130, 754, 555],\n",
    "                     'patient':[1, 1, 1, 1, 2, 2, 2, 2],\n",
    "                     'phylum':['Firmicutes', 'Proteobacteria', 'Actinobacteria', \n",
    "    'Bacteroidetes', 'Firmicutes', 'Proteobacteria', 'Actinobacteria', 'Bacteroidetes']})\n",
    "print(data)\n",
    "\n",
    "data[['phylum','value','patient']] # ordre des colonnes\n",
    "data.index # index des lignes\n",
    "data['patient'] # colonne patient\n",
    "data.patient # colonne patient\n",
    "data.loc[3] # acceder à la ligne 3\n",
    "data.shape[0] # dimension de la colonne 0\n",
    "vals = data.value # valeurs de la colonne value qui est une serie pandas\n",
    "vals[5] = 0 # changer la valeur de la 5eme ligne\n",
    "# Attention: cela modifie le DataFrame original\n",
    "data_copy = data.value.copy()\n",
    "data.value[[3,4,6]] = [14, 21, 5] # changer les valeurs des lignes 3, 4 et 6 de la colonne value\n",
    "data['year'] = 2013 # ajouter une colonne year\n",
    "data.treatment = 1 # n'ajoute pas de colonne treatment\n",
    "\n",
    "#La méthode .apply de Pandas est utilisée pour appliquer une fonction à chaque élément d'une série ou d'un DataFrame & x est une ligne\n",
    "print(data[data['phylum'].apply(lambda x: x.endswith('bacteria')) & data['value'].apply(lambda x: x > 1000)])\n",
    "\n",
    "data_nomonth = data.drop('treatment', axis=1) # supprimer la colonne \"treatment\"\n",
    "data2 = data.drop([0,1]) # supprimer les lignes 0 et 1\n",
    "data.nlargest(3,\"Value\") # les 3 lignes avec les valeurs les plus grandes"
   ]
  },
  {
   "cell_type": "markdown",
   "metadata": {},
   "source": [
    "NumPy's math functions and other operations can be applied to Series without losing the data structure.\n",
    "np.log(bacteria)\n",
    "bacteria.apply(np.log)"
   ]
  },
  {
   "cell_type": "markdown",
   "metadata": {},
   "source": [
    "## Importation data"
   ]
  },
  {
   "cell_type": "markdown",
   "metadata": {},
   "source": [
    "### CSV"
   ]
  },
  {
   "cell_type": "code",
   "execution_count": null,
   "metadata": {},
   "outputs": [],
   "source": [
    "!head Data/microbiome.csv # afficher les 10 premières lignes du fichier microbiome.csv\n",
    "mb = pd.read_csv(\"Data/microbiome.csv\", sep=',') # lire le fichier microbiome.csv parfois sep='\\s+'\n",
    "mb.head() # afficher les 5 premières lignes du DataFrame mb\n",
    "#We can override default behavior by customizing some the arguments, like `header`, `names` or `index_col`.\n",
    "pd.read_csv(\"Data/microbiome.csv\", skiprows=[3,4,6]) # Enleve les lignes 3, 4 et 6\n",
    "pd.read_csv(\"Data/microbiome.csv\", nrows=4) # Ne prend que les 4 premières lignes\n",
    "#Parfois des valeurs manquent dans les données. Panda les remplace par NaN.\n",
    "pd.isnull(pd.read_csv(\"Data/microbiome_missing.csv\")) # Affiche true si la valeur est manquante\n",
    "valeurs_marquante = pd.read_csv(\"Data/microbiome_missing.csv\", na_values=['?', -99999]) # Remplace les valeurs manquantes par NaN\n",
    "\n",
    "\n",
    "\n"
   ]
  },
  {
   "cell_type": "markdown",
   "metadata": {},
   "source": [
    "### Excel"
   ]
  },
  {
   "cell_type": "code",
   "execution_count": null,
   "metadata": {},
   "outputs": [],
   "source": [
    "mb = pd.read_excel('Data/microbiome_MID2.xls', sheet_name='Sheet 1', header=None)\n",
    "mb.head()\n"
   ]
  },
  {
   "cell_type": "markdown",
   "metadata": {},
   "source": [
    "#### pickel (binary)"
   ]
  },
  {
   "cell_type": "code",
   "execution_count": null,
   "metadata": {},
   "outputs": [],
   "source": [
    "pd.read_pickle(\"data_pickle\") # lire un fichier pickle"
   ]
  },
  {
   "cell_type": "markdown",
   "metadata": {},
   "source": [
    "## Operations"
   ]
  },
  {
   "cell_type": "markdown",
   "metadata": {},
   "source": [
    "### indexing and selection"
   ]
  },
  {
   "cell_type": "code",
   "execution_count": null,
   "metadata": {},
   "outputs": [],
   "source": [
    "baseball = pd.read_csv(\"Data/baseball.csv\", index_col='id')\n",
    "baseball.index.is_unique # Vérifie si l'index est unique\n",
    "baseball.index = baseball.player # Change l'index en player\n",
    "baseball['womacto01CHN2006':'gonzalu01ARI2006'] # Affiche les lignes de womacto01CHN2006 à gonzalu01ARI2006\n",
    "min_ab = 500\n",
    "baseball.query(\"ab > @min_ab\") # Affiche les lignes où ab > 500 (il faut mettre une chaine de caractère)\n",
    "#iloc permet de sélectionner des lignes et des colonnes par position\n",
    "baseball.iloc[:5, 5:8] # Affiche les lignes de 0 à 5 et les colonnes de 5 à 8\n",
    "baseball_h = baseball.set_index(['year', 'team', 'player']) #indxexation hiérarchique à partir de plusieurs colonnes\n",
    "baseball_h.loc[(2007, 'ATL', 'francju01')] # Accès à une ligne dun DataFrame hiérarchique\n"
   ]
  },
  {
   "cell_type": "markdown",
   "metadata": {},
   "source": [
    "### Operation & Sorting\n"
   ]
  },
  {
   "cell_type": "markdown",
   "metadata": {},
   "source": []
  },
  {
   "cell_type": "code",
   "execution_count": null,
   "metadata": {},
   "outputs": [],
   "source": [
    "hr_total = baseball\n",
    "hr_total[hr_total.notnull()] # Affiche les lignes où il n'y a pas de valeurs manquantes\n",
    "hr_total.dropna() # Enlève les lignes où il y a des valeurs manquantes\n",
    "hr_total.dropna(how='all') # which only drops a row when every field is a missing value.\n",
    "hr_total.fillna(0) # Remplace les valeurs manquantes par 0\n",
    "data.fillna({'year': 2013, 'treatment':2}) # Remplace les valeurs manquantes de year par 2013 et treatment par 2\n",
    "\n",
    "data['treatment'].fillna(2, inplace=True) #inplace=True : Modifie l'objet d'origine directement. Aucun nouvel objet n'est retourné. // inplace=False : Crée et retourne une nouvelle copie de l'objet avec les modifications, laissant l'objet d'origine inchangé.\n",
    "baseball.sum(numeric_only=True) # retourne la somme de chaque colonne. numeric_only=True : ignore les colonnes avec des chaines de caractères\n",
    "baseball.mean(skipna=False) # retourne la moyenne de chaque colonne. skipna=False : inclut les valeurs manquantes\n",
    "baseball.describe() # retourne des statistiques descriptives pour chaque colonne (pour series et DataFrame)\n"
   ]
  },
  {
   "cell_type": "markdown",
   "metadata": {},
   "source": [
    "We can also calculate summary statistics *across* multiple columns, for example, correlation and covariance.\n",
    "\n",
    "$$cov(x,y) = \\sum_i (x_i - \\bar{x})(y_i - \\bar{y})$$"
   ]
  },
  {
   "cell_type": "code",
   "execution_count": null,
   "metadata": {},
   "outputs": [
    {
     "data": {
      "text/plain": [
       "69.07646464646454"
      ]
     },
     "metadata": {},
     "output_type": "display_data"
    }
   ],
   "source": [
    "baseball.hr.cov(baseball.X2b)"
   ]
  },
  {
   "cell_type": "markdown",
   "metadata": {},
   "source": [
    "$$corr(x,y) = \\frac{cov(x,y)}{(n-1)s_x s_y} = \\frac{\\sum_i (x_i - \\bar{x})(y_i - \\bar{y})}{\\sqrt{\\sum_i (x_i - \\bar{x})^2 \\sum_i (y_i - \\bar{y})^2}}$$"
   ]
  },
  {
   "cell_type": "code",
   "execution_count": null,
   "metadata": {},
   "outputs": [
    {
     "data": {
      "text/plain": [
       "0.7790615182539742"
      ]
     },
     "metadata": {},
     "output_type": "display_data"
    }
   ],
   "source": [
    "baseball.hr.corr(baseball.X2b)"
   ]
  },
  {
   "cell_type": "markdown",
   "metadata": {},
   "source": [
    "### Affichage"
   ]
  },
  {
   "cell_type": "code",
   "execution_count": null,
   "metadata": {},
   "outputs": [
    {
     "name": "stdout",
     "output_type": "stream",
     "text": [
      "       hr  X2b\n",
      "id            \n",
      "88653  15   52\n",
      "89360  35   19\n",
      "89361  26   30\n",
      "89371  21   28\n",
      "89374  21   24\n",
      "89378  25   20\n",
      "89389  11   31\n",
      "89396  20   33\n",
      "89439  20   36\n",
      "89462  30   24\n",
      "89466  15   23\n",
      "89481  12   15\n",
      "89489  24   30\n",
      "89521  28   14\n",
      "89533  13   19\n"
     ]
    },
    {
     "data": {
      "text/plain": [
       "<Axes: xlabel='hr', ylabel='X2b'>"
      ]
     },
     "metadata": {},
     "output_type": "display_data"
    },
    {
     "data": {
      "image/png": "[encoded data removed]",
      "text/plain": [
       "<Figure size 640x480 with 1 Axes>"
      ]
     },
     "metadata": {},
     "output_type": "display_data"
    }
   ],
   "source": [
    "\n",
    "baseball.plot.scatter(x='hr', y='X2b')"
   ]
  },
  {
   "cell_type": "code",
   "execution_count": null,
   "metadata": {},
   "outputs": [
    {
     "data": {
      "text/plain": [
       "<Axes: >"
      ]
     },
     "metadata": {},
     "output_type": "display_data"
    },
    {
     "data": {
      "image/png": "[encoded data removed]",
      "text/plain": [
       "<Figure size 640x480 with 1 Axes>"
      ]
     },
     "metadata": {},
     "output_type": "display_data"
    }
   ],
   "source": [
    "baseball['ab'].hist()"
   ]
  },
  {
   "cell_type": "markdown",
   "metadata": {},
   "source": [
    "### Writing Data to Files"
   ]
  },
  {
   "cell_type": "code",
   "execution_count": null,
   "metadata": {},
   "outputs": [],
   "source": [
    "mb.to_csv(\"mb.csv\") # Sauvegarde le DataFrame mb dans un fichier csv\n",
    "baseball.to_pickle(\"baseball_pickle\") # Sauvegarde le DataFrame baseball dans un fichier pickle"
   ]
  },
  {
   "cell_type": "markdown",
   "metadata": {},
   "source": [
    "### Date/Time data handling"
   ]
  },
  {
   "cell_type": "code",
   "execution_count": null,
   "metadata": {},
   "outputs": [],
   "source": [
    "from datetime import datetime, date, time\n",
    "now = datetime.now() #return (year, month, day, hour, minute, second, microsecond)\n",
    "object = date(2024) #create a date object datetime64[ns]\n",
    "object.dtypes #return the type of the object\n",
    "from dateutil.parser import parse \n",
    "parse(\"6/12/2011\", dayfirst=True) #convert a string to a date object\n",
    "segments = pd.read_csv(\"Data/transit_segments.csv\", parse_dates=['st_time', 'end_time'], date_format='%m/%d/%y %H:%M', nrows=1000) \n",
    "#parse_dates : convertit les colonnes en objets datetime #date_format : format de la date\n",
    "segments.st_time.dt.month==2 #return les lignes où le mois est février (=2)\n"
   ]
  },
  {
   "cell_type": "markdown",
   "metadata": {},
   "source": [
    "### Merging and joining DataFrame objects"
   ]
  },
  {
   "cell_type": "code",
   "execution_count": 2,
   "metadata": {},
   "outputs": [
    {
     "name": "stdout",
     "output_type": "stream",
     "text": [
      "   id1     name\n",
      "0    1    Alice\n",
      "1    2      Bob\n",
      "2    3  Charlie\n",
      "3    4    David\n",
      "   id2  score\n",
      "0    3     85\n",
      "1    4     90\n",
      "2    5     95\n",
      "3    6    100\n"
     ]
    },
    {
     "data": {
      "text/html": [
       "<div>\n",
       "<style scoped>\n",
       "    .dataframe tbody tr th:only-of-type {\n",
       "        vertical-align: middle;\n",
       "    }\n",
       "\n",
       "    .dataframe tbody tr th {\n",
       "        vertical-align: top;\n",
       "    }\n",
       "\n",
       "    .dataframe thead th {\n",
       "        text-align: right;\n",
       "    }\n",
       "</style>\n",
       "<table border=\"1\" class=\"dataframe\">\n",
       "  <thead>\n",
       "    <tr style=\"text-align: right;\">\n",
       "      <th></th>\n",
       "      <th>id1</th>\n",
       "      <th>name</th>\n",
       "      <th>id2</th>\n",
       "      <th>score</th>\n",
       "    </tr>\n",
       "  </thead>\n",
       "  <tbody>\n",
       "    <tr>\n",
       "      <th>0</th>\n",
       "      <td>3</td>\n",
       "      <td>Charlie</td>\n",
       "      <td>3</td>\n",
       "      <td>85</td>\n",
       "    </tr>\n",
       "    <tr>\n",
       "      <th>1</th>\n",
       "      <td>4</td>\n",
       "      <td>David</td>\n",
       "      <td>4</td>\n",
       "      <td>90</td>\n",
       "    </tr>\n",
       "  </tbody>\n",
       "</table>\n",
       "</div>"
      ],
      "text/plain": [
       "   id1     name  id2  score\n",
       "0    3  Charlie    3     85\n",
       "1    4    David    4     90"
      ]
     },
     "metadata": {},
     "output_type": "display_data"
    },
    {
     "name": "stdout",
     "output_type": "stream",
     "text": [
      "   id1     name  id2  score\n",
      "0  1.0    Alice  NaN    NaN\n",
      "1  2.0      Bob  NaN    NaN\n",
      "2  3.0  Charlie  3.0   85.0\n",
      "3  4.0    David  4.0   90.0\n",
      "4  NaN      NaN  5.0   95.0\n",
      "5  NaN      NaN  6.0  100.0\n"
     ]
    },
    {
     "data": {
      "text/html": [
       "<div>\n",
       "<style scoped>\n",
       "    .dataframe tbody tr th:only-of-type {\n",
       "        vertical-align: middle;\n",
       "    }\n",
       "\n",
       "    .dataframe tbody tr th {\n",
       "        vertical-align: top;\n",
       "    }\n",
       "\n",
       "    .dataframe thead th {\n",
       "        text-align: right;\n",
       "    }\n",
       "</style>\n",
       "<table border=\"1\" class=\"dataframe\">\n",
       "  <thead>\n",
       "    <tr style=\"text-align: right;\">\n",
       "      <th></th>\n",
       "      <th>id1</th>\n",
       "      <th>name</th>\n",
       "      <th>id2</th>\n",
       "      <th>score</th>\n",
       "    </tr>\n",
       "  </thead>\n",
       "  <tbody>\n",
       "    <tr>\n",
       "      <th>0</th>\n",
       "      <td>1</td>\n",
       "      <td>Alice</td>\n",
       "      <td>3</td>\n",
       "      <td>85</td>\n",
       "    </tr>\n",
       "    <tr>\n",
       "      <th>1</th>\n",
       "      <td>2</td>\n",
       "      <td>Bob</td>\n",
       "      <td>4</td>\n",
       "      <td>90</td>\n",
       "    </tr>\n",
       "    <tr>\n",
       "      <th>2</th>\n",
       "      <td>3</td>\n",
       "      <td>Charlie</td>\n",
       "      <td>5</td>\n",
       "      <td>95</td>\n",
       "    </tr>\n",
       "    <tr>\n",
       "      <th>3</th>\n",
       "      <td>4</td>\n",
       "      <td>David</td>\n",
       "      <td>6</td>\n",
       "      <td>100</td>\n",
       "    </tr>\n",
       "  </tbody>\n",
       "</table>\n",
       "</div>"
      ],
      "text/plain": [
       "   id1     name  id2  score\n",
       "0    1    Alice    3     85\n",
       "1    2      Bob    4     90\n",
       "2    3  Charlie    5     95\n",
       "3    4    David    6    100"
      ]
     },
     "metadata": {},
     "output_type": "display_data"
    },
    {
     "data": {
      "text/html": [
       "<div>\n",
       "<style scoped>\n",
       "    .dataframe tbody tr th:only-of-type {\n",
       "        vertical-align: middle;\n",
       "    }\n",
       "\n",
       "    .dataframe tbody tr th {\n",
       "        vertical-align: top;\n",
       "    }\n",
       "\n",
       "    .dataframe thead th {\n",
       "        text-align: right;\n",
       "    }\n",
       "</style>\n",
       "<table border=\"1\" class=\"dataframe\">\n",
       "  <thead>\n",
       "    <tr style=\"text-align: right;\">\n",
       "      <th></th>\n",
       "      <th>id1</th>\n",
       "      <th>name</th>\n",
       "      <th>id2</th>\n",
       "      <th>score</th>\n",
       "    </tr>\n",
       "  </thead>\n",
       "  <tbody>\n",
       "    <tr>\n",
       "      <th>0</th>\n",
       "      <td>3</td>\n",
       "      <td>Charlie</td>\n",
       "      <td>3</td>\n",
       "      <td>85</td>\n",
       "    </tr>\n",
       "    <tr>\n",
       "      <th>1</th>\n",
       "      <td>4</td>\n",
       "      <td>David</td>\n",
       "      <td>4</td>\n",
       "      <td>90</td>\n",
       "    </tr>\n",
       "  </tbody>\n",
       "</table>\n",
       "</div>"
      ],
      "text/plain": [
       "   id1     name  id2  score\n",
       "0    3  Charlie    3     85\n",
       "1    4    David    4     90"
      ]
     },
     "metadata": {},
     "output_type": "display_data"
    }
   ],
   "source": [
    "import numpy as np\n",
    "import pandas as pd\n",
    "df1 = pd.DataFrame({\n",
    "    'id1': [1, 2, 3, 4],\n",
    "    'name': ['Alice', 'Bob', 'Charlie', 'David']\n",
    "})\n",
    "\n",
    "df2 = pd.DataFrame({\n",
    "    'id2': [3, 4, 5, 6],\n",
    "    'score': [85, 90, 95, 100]\n",
    "})\n",
    "print(df1)\n",
    "print(df2)\n",
    "display(pd.merge(df1, df2, left_on='id1', right_on='id2')) #inner join par défaut\n",
    "print(pd.merge(df1, df2, how='outer', left_on='id1', right_on='id2')) #outer join \n",
    "#print(pd.merge(df1, df2, how='left', left_on='id1', right_on='id2')) #left join\n",
    "#print(pd.merge(df1, df2, how='right', left_on='id1', right_on='id2')) #right join\n",
    "#La jointure externe ci-dessus produit l'union des deux tables, de sorte que toutes les lignes sont représentées, avec les valeurs manquantes insérées le cas échéant. On peut également effectuer des jointures droite et gauche pour inclure toutes les lignes de la table de droite ou de gauche (*c'est-à-dire* le premier ou le deuxième argument de `merge`), mais pas nécessairement l'autre.\n",
    "display(pd.merge(df1, df2, left_index=True, right_index=True)) #jointure sur les index des deux DataFrames\n",
    "display(pd.merge(df1, df2, left_on= 'id1', right_on='id2')) #jointure sur les colonnes id1 et id2 des deux DataFrames\n"
   ]
  },
  {
   "cell_type": "markdown",
   "metadata": {},
   "source": [
    "### Concatenate\n"
   ]
  },
  {
   "cell_type": "markdown",
   "metadata": {},
   "source": [
    "### Pivoting"
   ]
  },
  {
   "cell_type": "markdown",
   "metadata": {},
   "source": [
    "### Data transformation (values remplacement , indecator variable)\n"
   ]
  },
  {
   "cell_type": "code",
   "execution_count": 15,
   "metadata": {},
   "outputs": [
    {
     "name": "stdout",
     "output_type": "stream",
     "text": [
      "  vessel   type\n",
      "0      A  ferry\n",
      "1      B  ferry\n",
      "2      C   ship\n",
      "3      D   ship\n",
      "  vessel  type\n",
      "0      A     1\n",
      "1      B     1\n",
      "2      C     0\n",
      "3      D     0\n",
      "  vessel   type\n",
      "0      A  ferry\n",
      "1      B  ferry\n",
      "2      C   ship\n",
      "3      D   ship\n"
     ]
    }
   ],
   "source": [
    "vessels = pd.DataFrame({'vessel': ['A', 'B', 'C', 'D'], 'type': ['ferry', 'ferry', 'ship', 'ship']})\n",
    "print(vessels)\n",
    "vessels.duplicated(subset='type').head(30) #return True if the row is duplicated\n",
    "vessels.drop_duplicates(['type']).head() #remove the duplicated rows\n",
    "vessels['type'] = vessels.type.map({'ferry': 1, 'ship': 0}) #replace the values of the column type by 1 if ferry and 0 if ship\n",
    "vessels.drop(columns=['type'], axis=1) #remove the column type\n",
    "print(vessels)\n",
    "vessels.vessel.replace({'A': 'Alpha', 'B': 'Bravo', 'C': 'Charlie', 'D': 'Delta'}).head(10)\n",
    "vessels['type'] = vessels['type'].replace({1: 'ferry', 0: 'ship'}) # replace the values back to ferry and ship\n",
    "print(vessels)\n",
    "\n",
    "#inplace=True #modifie l'objet d'origine directement. Aucun nouvel objet n'est retourné.\n",
    "vessels.rename(columns={'type': 'vessel_type'}, inplace=True) #rename the column type to vessel_type\n",
    "\n",
    "\n"
   ]
  },
  {
   "cell_type": "markdown",
   "metadata": {},
   "source": [
    "### Caterorical data /discretization\n"
   ]
  },
  {
   "cell_type": "code",
   "execution_count": null,
   "metadata": {},
   "outputs": [],
   "source": [
    "cdystonia['treat'] = cdystonia.treat.astype('category') #§change the type of the column treat to category\n",
    "\n",
    "pd.cut(cdystonia.age, [20,30,40,50,60,70,80,90], right=False , labels=['young','middle-aged','old','really old'])\n",
    "#Dans ce cas, l'appel à pd.cut(cdystonia.age, [20,30,40,50,60,70,80,90]) divise la colonne age du DataFrame cdystonia en intervalles spécifiés par la liste [20,30,40,50,60,70,80,90]. Cela signifie que les âges seront classés dans les catégories suivantes : 20-30, 30-40, 40-50, 50-60, 60-70, 70-80, et 80-90 ans. La fonction retourne une série d'objets catégoriels indiquant à quel intervalle chaque valeur appartie #right=False : les intervalles sont fermés à gauche et ouverts à droite\n",
    "#labels : remplace les intervalles par les labels spécifiés\n",
    "pd.qcut(cdystonia.age, 4) #A related function `qcut` uses empirical quantiles to divide the data. If, for example, we want the quartiles -- (0-25%], (25-50%], (50-70%], (75-100%] -- we can just specify 4 intervals, which will be equally-spaced by default:\n",
    "quantiles = pd.qcut(segments.seg_length, [0, 0.01, 0.05, 0.95, 0.99, 1]) #retourn des divisions personnalisées\n"
   ]
  },
  {
   "cell_type": "markdown",
   "metadata": {},
   "source": [
    "### Permutation and sampling"
   ]
  },
  {
   "cell_type": "code",
   "execution_count": null,
   "metadata": {},
   "outputs": [],
   "source": [
    "vessels.sample(n=10) #utilise la méthode sample de la bibliothèque Pandas pour sélectionner un échantillon aléatoire de 10 lignes à partir du DataFrame"
   ]
  },
  {
   "cell_type": "markdown",
   "metadata": {},
   "source": [
    "### Aggregation / groupe\n"
   ]
  },
  {
   "cell_type": "code",
   "execution_count": 12,
   "metadata": {},
   "outputs": [
    {
     "data": {
      "text/html": [
       "<div>\n",
       "<style scoped>\n",
       "    .dataframe tbody tr th:only-of-type {\n",
       "        vertical-align: middle;\n",
       "    }\n",
       "\n",
       "    .dataframe tbody tr th {\n",
       "        vertical-align: top;\n",
       "    }\n",
       "\n",
       "    .dataframe thead th {\n",
       "        text-align: right;\n",
       "    }\n",
       "</style>\n",
       "<table border=\"1\" class=\"dataframe\">\n",
       "  <thead>\n",
       "    <tr style=\"text-align: right;\">\n",
       "      <th></th>\n",
       "      <th>team</th>\n",
       "      <th>points</th>\n",
       "      <th>assists</th>\n",
       "    </tr>\n",
       "  </thead>\n",
       "  <tbody>\n",
       "    <tr>\n",
       "      <th>0</th>\n",
       "      <td>A</td>\n",
       "      <td>10</td>\n",
       "      <td>5</td>\n",
       "    </tr>\n",
       "    <tr>\n",
       "      <th>1</th>\n",
       "      <td>A</td>\n",
       "      <td>15</td>\n",
       "      <td>7</td>\n",
       "    </tr>\n",
       "    <tr>\n",
       "      <th>2</th>\n",
       "      <td>B</td>\n",
       "      <td>10</td>\n",
       "      <td>8</td>\n",
       "    </tr>\n",
       "    <tr>\n",
       "      <th>3</th>\n",
       "      <td>B</td>\n",
       "      <td>20</td>\n",
       "      <td>5</td>\n",
       "    </tr>\n",
       "    <tr>\n",
       "      <th>4</th>\n",
       "      <td>C</td>\n",
       "      <td>10</td>\n",
       "      <td>6</td>\n",
       "    </tr>\n",
       "    <tr>\n",
       "      <th>5</th>\n",
       "      <td>C</td>\n",
       "      <td>30</td>\n",
       "      <td>9</td>\n",
       "    </tr>\n",
       "  </tbody>\n",
       "</table>\n",
       "</div>"
      ],
      "text/plain": [
       "  team  points  assists\n",
       "0    A      10        5\n",
       "1    A      15        7\n",
       "2    B      10        8\n",
       "3    B      20        5\n",
       "4    C      10        6\n",
       "5    C      30        9"
      ]
     },
     "metadata": {},
     "output_type": "display_data"
    },
    {
     "data": {
      "text/html": [
       "<div>\n",
       "<style scoped>\n",
       "    .dataframe tbody tr th:only-of-type {\n",
       "        vertical-align: middle;\n",
       "    }\n",
       "\n",
       "    .dataframe tbody tr th {\n",
       "        vertical-align: top;\n",
       "    }\n",
       "\n",
       "    .dataframe thead th {\n",
       "        text-align: right;\n",
       "    }\n",
       "</style>\n",
       "<table border=\"1\" class=\"dataframe\">\n",
       "  <thead>\n",
       "    <tr style=\"text-align: right;\">\n",
       "      <th></th>\n",
       "      <th>team</th>\n",
       "      <th>moyenne_points</th>\n",
       "      <th>somme_assists</th>\n",
       "    </tr>\n",
       "  </thead>\n",
       "  <tbody>\n",
       "    <tr>\n",
       "      <th>0</th>\n",
       "      <td>A</td>\n",
       "      <td>12.5</td>\n",
       "      <td>12</td>\n",
       "    </tr>\n",
       "    <tr>\n",
       "      <th>1</th>\n",
       "      <td>B</td>\n",
       "      <td>15.0</td>\n",
       "      <td>13</td>\n",
       "    </tr>\n",
       "    <tr>\n",
       "      <th>2</th>\n",
       "      <td>C</td>\n",
       "      <td>20.0</td>\n",
       "      <td>15</td>\n",
       "    </tr>\n",
       "  </tbody>\n",
       "</table>\n",
       "</div>"
      ],
      "text/plain": [
       "  team  moyenne_points  somme_assists\n",
       "0    A            12.5             12\n",
       "1    B            15.0             13\n",
       "2    C            20.0             15"
      ]
     },
     "metadata": {},
     "output_type": "display_data"
    },
    {
     "data": {
      "text/html": [
       "<div>\n",
       "<style scoped>\n",
       "    .dataframe tbody tr th:only-of-type {\n",
       "        vertical-align: middle;\n",
       "    }\n",
       "\n",
       "    .dataframe tbody tr th {\n",
       "        vertical-align: top;\n",
       "    }\n",
       "\n",
       "    .dataframe thead th {\n",
       "        text-align: right;\n",
       "    }\n",
       "</style>\n",
       "<table border=\"1\" class=\"dataframe\">\n",
       "  <thead>\n",
       "    <tr style=\"text-align: right;\">\n",
       "      <th>points</th>\n",
       "      <th>10</th>\n",
       "      <th>15</th>\n",
       "      <th>20</th>\n",
       "      <th>30</th>\n",
       "    </tr>\n",
       "    <tr>\n",
       "      <th>team</th>\n",
       "      <th></th>\n",
       "      <th></th>\n",
       "      <th></th>\n",
       "      <th></th>\n",
       "    </tr>\n",
       "  </thead>\n",
       "  <tbody>\n",
       "    <tr>\n",
       "      <th>A</th>\n",
       "      <td>1</td>\n",
       "      <td>1</td>\n",
       "      <td>0</td>\n",
       "      <td>0</td>\n",
       "    </tr>\n",
       "    <tr>\n",
       "      <th>B</th>\n",
       "      <td>1</td>\n",
       "      <td>0</td>\n",
       "      <td>1</td>\n",
       "      <td>0</td>\n",
       "    </tr>\n",
       "    <tr>\n",
       "      <th>C</th>\n",
       "      <td>1</td>\n",
       "      <td>0</td>\n",
       "      <td>0</td>\n",
       "      <td>1</td>\n",
       "    </tr>\n",
       "  </tbody>\n",
       "</table>\n",
       "</div>"
      ],
      "text/plain": [
       "points  10  15  20  30\n",
       "team                  \n",
       "A        1   1   0   0\n",
       "B        1   0   1   0\n",
       "C        1   0   0   1"
      ]
     },
     "metadata": {},
     "output_type": "display_data"
    },
    {
     "data": {
      "text/html": [
       "<div>\n",
       "<style scoped>\n",
       "    .dataframe tbody tr th:only-of-type {\n",
       "        vertical-align: middle;\n",
       "    }\n",
       "\n",
       "    .dataframe tbody tr th {\n",
       "        vertical-align: top;\n",
       "    }\n",
       "\n",
       "    .dataframe thead th {\n",
       "        text-align: right;\n",
       "    }\n",
       "</style>\n",
       "<table border=\"1\" class=\"dataframe\">\n",
       "  <thead>\n",
       "    <tr style=\"text-align: right;\">\n",
       "      <th>points</th>\n",
       "      <th>10</th>\n",
       "      <th>15</th>\n",
       "      <th>20</th>\n",
       "      <th>30</th>\n",
       "    </tr>\n",
       "    <tr>\n",
       "      <th>team</th>\n",
       "      <th></th>\n",
       "      <th></th>\n",
       "      <th></th>\n",
       "      <th></th>\n",
       "    </tr>\n",
       "  </thead>\n",
       "  <tbody>\n",
       "    <tr>\n",
       "      <th>A</th>\n",
       "      <td>5.0</td>\n",
       "      <td>7.0</td>\n",
       "      <td>NaN</td>\n",
       "      <td>NaN</td>\n",
       "    </tr>\n",
       "    <tr>\n",
       "      <th>B</th>\n",
       "      <td>8.0</td>\n",
       "      <td>NaN</td>\n",
       "      <td>5.0</td>\n",
       "      <td>NaN</td>\n",
       "    </tr>\n",
       "    <tr>\n",
       "      <th>C</th>\n",
       "      <td>6.0</td>\n",
       "      <td>NaN</td>\n",
       "      <td>NaN</td>\n",
       "      <td>9.0</td>\n",
       "    </tr>\n",
       "  </tbody>\n",
       "</table>\n",
       "</div>"
      ],
      "text/plain": [
       "points   10   15   20   30\n",
       "team                      \n",
       "A       5.0  7.0  NaN  NaN\n",
       "B       8.0  NaN  5.0  NaN\n",
       "C       6.0  NaN  NaN  9.0"
      ]
     },
     "metadata": {},
     "output_type": "display_data"
    }
   ],
   "source": [
    "# Exemple de DataFrame\n",
    "import pandas as pd\n",
    "\n",
    "data = pd.DataFrame({\n",
    "    'team': ['A', 'A', 'B', 'B', 'C', 'C'],\n",
    "    'points': [10, 15, 10, 20, 10, 30],\n",
    "    'assists': [5, 7, 8, 5, 6, 9]\n",
    "})\n",
    "\n",
    "display(data)\n",
    "#groupby(\"principal_genre\").agg(regroupement=(secondaire, fonction))\n",
    "grouped_data = data.groupby('team', as_index=False).agg(moyenne_points=('points', 'mean'), somme_assists=('assists', 'sum')) # group by team and calculate the mean of points and the sum of assists\n",
    "display(grouped_data)\n",
    "\n",
    "#crosstab : permet de croiser les données de deux colonnes donc de savoir combien de fois chaque valeur de la colonne 1 apparaît avec chaque valeur de la colonne 2\n",
    "groupe_cross = pd.crosstab(data['team'], data['points']) # croise les données de team et points\n",
    "groupe_cross1 = pd.crosstab(data['team'], data['points'], values=data[\"assists\"], aggfunc='sum') # croise les données de team et points\n",
    "display(groupe_cross)\n",
    "display(groupe_cross1) "
   ]
  },
  {
   "cell_type": "markdown",
   "metadata": {},
   "source": [
    "## matplotlib"
   ]
  },
  {
   "cell_type": "code",
   "execution_count": 4,
   "metadata": {},
   "outputs": [
    {
     "data": {
      "text/plain": [
       "<matplotlib.collections.PathCollection at 0x1112ecd30>"
      ]
     },
     "execution_count": 4,
     "metadata": {},
     "output_type": "execute_result"
    },
    {
     "data": {
      "image/png": "[encoded data removed]",
      "text/plain": [
       "<Figure size 640x480 with 3 Axes>"
      ]
     },
     "metadata": {},
     "output_type": "display_data"
    }
   ],
   "source": [
    "import seaborn as sns\n",
    "\n",
    "#plt.errorbar(x,y,yerr=std,capsize=2)\n",
    "#sns.violinplot(x,y,sous-ensemble de donnée) \n",
    "#sns.boxplot(x,y,sous-ensemble de donnée) \n",
    "#plt.scatter(x,y,s=area_of_points) #s : size of points \n",
    "#sns.jointplot(x, y, kind=\"hex\", color=\"red\")           kind : scatter, reg, resid, kde, hex\n",
    "#plt.fill_between(x, y-std, y+std, alpha=0.5) #remplir la zone entre y-std et y+std\n",
    "#sns.heatmap(data rectangle cross-tabulé, annot=True, vmin=0, vmax=1 , cmap='coolwarm') cmap :\"viridis\", \"plasma\", \"inferno\", \"magma\", \"cividis\"  #heatmap : affiche les valeurs numériques dans un tableau sous forme de couleurs \n",
    "#plt.hist(x = array , bins = number of bins, color = 'color', alpha = 0.7 , log=True)\n",
    "#sns.kdeplot(x = array, color='blue')\n"
   ]
  },
  {
   "cell_type": "code",
   "execution_count": null,
   "metadata": {},
   "outputs": [],
   "source": [
    "import matplotlib.pyplot as plt\n"
   ]
  },
  {
   "cell_type": "code",
   "execution_count": null,
   "metadata": {},
   "outputs": [
    {
     "data": {
      "image/png": "[encoded data removed]",
      "text/plain": [
       "<Figure size 800x600 with 16 Axes>"
      ]
     },
     "metadata": {},
     "output_type": "display_data"
    }
   ],
   "source": [
    "import matplotlib.pyplot as plt\n",
    "\n",
    "fig, ax = plt.subplots(4,4,figsize= (8,6), sharey = True, sharex = True)\n",
    "\n",
    "for i in range(16):\n",
    "    sbplt = ax[i%4, math.floor(i/4)]\n",
    "    sbplt.hist(valeurs,range = [0,200],bins = 20)\n",
    "    sbplt.set_title(array.index[i])\n",
    "    \n",
    "fig.tight_layout()\n",
    "\n",
    "fig.text(0.4,0, \"axe x globale\")\n",
    "fig.text(0,0.6, \"axe y globale\", rotation = 90)\n",
    "plt.show()\n"
   ]
  },
  {
   "cell_type": "markdown",
   "metadata": {},
   "source": [
    "# Data from the web"
   ]
  },
  {
   "cell_type": "code",
   "execution_count": 2,
   "metadata": {},
   "outputs": [],
   "source": [
    "# Import libraries\n",
    "import requests\n",
    "from bs4 import BeautifulSoup\n"
   ]
  },
  {
   "cell_type": "markdown",
   "metadata": {},
   "source": [
    "To fetch data from the Web with Python, you need to get use to two essential libraries:\n",
    "\n",
    " * [`Requests (HTTP)`](https://requests.kennethreitz.org/en/master/): récupère la page `html` à analyser.\n",
    "\n",
    " * [`Beautiful Soup (HTML Parsing)`](https://www.crummy.com/software/BeautifulSoup/bs4/doc/): analyse le `html` et extrait les données.\n",
    "  \n",
    "  Find the reminder of HTTP status codes [here](https://en.wikipedia.org/wiki/List_of_HTTP_status_codes). Some typical codes are: **200 OK** (standard response for successful HTTP requests) and **404 Not Found** (the requested resource could not be found but may be available in the future)."
   ]
  },
  {
   "cell_type": "markdown",
   "metadata": {},
   "source": []
  },
  {
   "cell_type": "markdown",
   "metadata": {},
   "source": [
    "Voici une version simplifiée et structurée de l'explication sur l'utilisation d'une requête GET :\n",
    "\n",
    "- **Requête GET** : Méthode pour récupérer des données sans modification du serveur.\n",
    "\n",
    "**Réponse de la requête** : \n",
    "- **Code de statut** : Indique le résultat de la requête (ex : 200 OK pour succès, 404 Not Found pour une erreur).\n",
    "- **Headers** : Détails supplémentaires sur la réponse (type de contenu, date de modification).\n",
    "- **Body** : Contenu principal de la réponse (HTML pour les pages web, JSON/XML pour les services web)."
   ]
  },
  {
   "cell_type": "code",
   "execution_count": 3,
   "metadata": {},
   "outputs": [
    {
     "name": "stdout",
     "output_type": "stream",
     "text": [
      "Response status code: 200\n",
      "\n",
      "Response headers: {'Date': 'Tue, 24 Sep 2024 13:29:45 GMT', 'Content-Type': 'application/json', 'Content-Length': '34', 'Connection': 'keep-alive', 'Server': 'gunicorn/19.9.0', 'Access-Control-Allow-Origin': '*', 'Access-Control-Allow-Credentials': 'true'}\n",
      "\n",
      "Response body: {\n",
      "  \"origin\": \"178.197.203.164\"\n",
      "}\n",
      "\n"
     ]
    },
    {
     "data": {
      "text/plain": [
       "{'origin': '178.197.203.164'}"
      ]
     },
     "execution_count": 3,
     "metadata": {},
     "output_type": "execute_result"
    }
   ],
   "source": [
    "# Make the request\n",
    "r = requests.get('https://httpbin.org/ip') # /ip: Returns the requester's IP Address.\n",
    "\n",
    "print('Response status code: {0}\\n'.format(r.status_code))\n",
    "print('Response headers: {0}\\n'.format(r.headers))\n",
    "print('Response body: {0}'.format(r.text))\n",
    "r.text[:300] # Affiche les 300 premiers caractères de la réponse textuelle de la requête\n"
   ]
  },
  {
   "cell_type": "code",
   "execution_count": null,
   "metadata": {},
   "outputs": [],
   "source": [
    "r.json() # Returns the JSON object parsed\n",
    "r = requests.post('https://httpbin.org/post', data) #post() : envoie une requête POST à l'URL spécifiée pour envoyer des données au serveur Web\n",
    "\n",
    "\n",
    "\n",
    "\n",
    "\n",
    "\n"
   ]
  },
  {
   "cell_type": "code",
   "execution_count": null,
   "metadata": {},
   "outputs": [],
   "source": [
    "soup = BeautifulSoup(page_body, 'html.parser') # Parse the HTML content of the page\n",
    "soup.title # Get the title of the page\n",
    "soup.title.string # Get the title of the page as a string\n",
    "all_links = soup.find_all('a') #In HTML a link is defined using the tag &lt;A&gt;, and BeautifulSoup offers an easy way to find them\n",
    "soup.find('span', class_='title') # chercher un élément span avec la classe title dans le code HTML\n",
    "all_links[a].get('href') # Get the URL of the link #a : index of the link\n"
   ]
  },
  {
   "cell_type": "markdown",
   "metadata": {},
   "source": []
  }
 ],
 "metadata": {
  "kernelspec": {
   "display_name": "ada",
   "language": "python",
   "name": "python3"
  },
  "language_info": {
   "codemirror_mode": {
    "name": "ipython",
    "version": 3
   },
   "file_extension": ".py",
   "mimetype": "text/x-python",
   "name": "python",
   "nbconvert_exporter": "python",
   "pygments_lexer": "ipython3",
   "version": "3.11.8"
  }
 },
 "nbformat": 4,
 "nbformat_minor": 2
}
