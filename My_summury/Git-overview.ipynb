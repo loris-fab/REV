{
 "cells": [
  {
   "cell_type": "markdown",
   "metadata": {},
   "source": [
    "# GIT\n",
    "Voici une liste des commandes Git les plus couramment utilisées :\n",
    "\n",
    "1. `git init` : initialise un nouveau dépôt Git.\n",
    "2. `git clone [url]` : clone un dépôt Git existant à partir d'une URL.\n",
    "3. `git add [fichier]` : ajoute un fichier au prochain commit (index).\n",
    "4. `git commit -m \"[message]\"` : crée un commit avec les fichiers ajoutés.\n",
    "5. `git status` : montre l'état des fichiers dans le dépôt (modifiés, ajoutés, etc.).\n",
    "6. `git push [alias] [branche]` : pousse les commits vers le dépôt distant.\n",
    "7. `git pull [alias] [branche]` : récupère les mises à jour du dépôt distant et fusionne.\n",
    "8. `git branch` : liste toutes les branches locales.\n",
    "9. `git branch [nom]` : crée une nouvelle branche.\n",
    "10. `git checkout [nom de branche]` : change de branche.\n",
    "11. `git merge [branche]` : fusionne une branche dans la branche active.\n",
    "12. `git log` : affiche l'historique des commits.\n",
    "13. `git diff` : montre les différences de contenu entre les commits, les branches, etc.\n",
    "14. `git reset [fichier]` : enlève le fichier de l'index (non commité).\n",
    "15. `git reset --hard [commit]` : réinitialise le HEAD à un commit spécifique, effaçant tous les changements.\n",
    "16. `git rm [fichier]` : supprime le fichier du dépôt et de l'index.\n",
    "17. `git stash` : met de côté les modifications actuelles pour un travail propre."
   ]
  },
  {
   "cell_type": "markdown",
   "metadata": {},
   "source": []
  }
 ],
 "metadata": {
  "language_info": {
   "name": "python"
  }
 },
 "nbformat": 4,
 "nbformat_minor": 2
}
