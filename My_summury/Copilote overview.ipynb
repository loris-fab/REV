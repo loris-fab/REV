{
 "cells": [
  {
   "cell_type": "markdown",
   "metadata": {},
   "source": [
    "\n",
    "### 1. **Utilisation de la Commande Chat**\n",
    "   - **`Cmd + L`** : Ouvre l'interface de chat où tu peux taper des commandes spécifiques. Par exemple :\n",
    "     - **`/commande`** : Appliquer une commande sur le texte sélectionné ou non.\n",
    "  \n",
    "### 2. **Accéder à l'Interface de Chat**\n",
    "   - **Icône de chat** : Clique sur l'icône de chat dans l'interface utilisateur pour démarrer une conversation ou interagir avec l'assistant.\n",
    "\n",
    "### 3. **Accepter le Texte Suggéré (Ghost Text)**\n",
    "   - **`Tab`** : Accepte le texte suggéré (\"ghost text\") qui apparaît automatiquement comme une aide à la complétion du code.\n",
    "\n",
    "### 4. **Utiliser des Raccourcis de Contexte**\n",
    "   - **`@workspace`** : Utilise ce raccourci pour générer du contenu ou des actions qui prennent en compte toutes les pages ou fichiers ouverts dans l'environnement de travail.\n",
    "   - **`#file`** : Ce raccourci peut être utilisé pour exécuter des commandes qui affectent le fichier actuellement ouvert ou sélectionné.\n",
    "   - **`#selected`** : Applique une commande ou une opération sur le texte que tu as sélectionné dans l'éditeur.\n"
   ]
  },
  {
   "cell_type": "markdown",
   "metadata": {},
   "source": []
  }
 ],
 "metadata": {
  "language_info": {
   "name": "python"
  }
 },
 "nbformat": 4,
 "nbformat_minor": 2
}
